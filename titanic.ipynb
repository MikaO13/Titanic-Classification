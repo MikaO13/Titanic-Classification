{
 "cells": [
  {
   "cell_type": "code",
   "execution_count": 407,
   "metadata": {},
   "outputs": [],
   "source": [
    "import numpy as np\n",
    "import pandas as pd\n",
    "import matplotlib.pyplot as plt\n",
    "import seaborn as sns\n",
    "from sklearn.model_selection import train_test_split\n",
    "from sklearn.ensemble import RandomForestClassifier\n",
    "from sklearn.discriminant_analysis import LinearDiscriminantAnalysis\n",
    "from sklearn.svm import SVC\n",
    "from sklearn.linear_model import LogisticRegression\n",
    "from sklearn.linear_model import SGDClassifier\n",
    "from sklearn.ensemble import GradientBoostingClassifier, StackingClassifier\n",
    "from sklearn.neighbors import KNeighborsClassifier\n",
    "from sklearn.preprocessing import LabelEncoder, OneHotEncoder, StandardScaler \n",
    "from sklearn.model_selection import StratifiedKFold\n",
    "from sklearn.model_selection import cross_val_score\n",
    "from sklearn.metrics import accuracy_score, plot_confusion_matrix, precision_score, recall_score, f1_score, classification_report\n",
    "from sklearn.model_selection import GridSearchCV, RandomizedSearchCV\n",
    "from sklearn.pipeline import Pipeline  \n",
    "from sklearn.impute import SimpleImputer\n",
    "\n",
    "import warnings\n",
    "warnings.filterwarnings(\"ignore\")\n",
    "from sklearn.exceptions import ConvergenceWarning\n",
    "warnings.filterwarnings(\"ignore\", category=ConvergenceWarning)"
   ]
  },
  {
   "cell_type": "code",
   "execution_count": 408,
   "metadata": {},
   "outputs": [],
   "source": [
    "df_train = pd.read_csv('train.csv')\n",
    "df_test = pd.read_csv('test.csv')"
   ]
  },
  {
   "cell_type": "code",
   "execution_count": 409,
   "metadata": {},
   "outputs": [
    {
     "data": {
      "text/html": [
       "<div>\n",
       "<style scoped>\n",
       "    .dataframe tbody tr th:only-of-type {\n",
       "        vertical-align: middle;\n",
       "    }\n",
       "\n",
       "    .dataframe tbody tr th {\n",
       "        vertical-align: top;\n",
       "    }\n",
       "\n",
       "    .dataframe thead th {\n",
       "        text-align: right;\n",
       "    }\n",
       "</style>\n",
       "<table border=\"1\" class=\"dataframe\">\n",
       "  <thead>\n",
       "    <tr style=\"text-align: right;\">\n",
       "      <th></th>\n",
       "      <th>PassengerId</th>\n",
       "      <th>Survived</th>\n",
       "      <th>Pclass</th>\n",
       "      <th>Name</th>\n",
       "      <th>Sex</th>\n",
       "      <th>Age</th>\n",
       "      <th>SibSp</th>\n",
       "      <th>Parch</th>\n",
       "      <th>Ticket</th>\n",
       "      <th>Fare</th>\n",
       "      <th>Cabin</th>\n",
       "      <th>Embarked</th>\n",
       "    </tr>\n",
       "  </thead>\n",
       "  <tbody>\n",
       "    <tr>\n",
       "      <th>0</th>\n",
       "      <td>1</td>\n",
       "      <td>0</td>\n",
       "      <td>3</td>\n",
       "      <td>Braund, Mr. Owen Harris</td>\n",
       "      <td>male</td>\n",
       "      <td>22.0</td>\n",
       "      <td>1</td>\n",
       "      <td>0</td>\n",
       "      <td>A/5 21171</td>\n",
       "      <td>7.2500</td>\n",
       "      <td>NaN</td>\n",
       "      <td>S</td>\n",
       "    </tr>\n",
       "    <tr>\n",
       "      <th>1</th>\n",
       "      <td>2</td>\n",
       "      <td>1</td>\n",
       "      <td>1</td>\n",
       "      <td>Cumings, Mrs. John Bradley (Florence Briggs Th...</td>\n",
       "      <td>female</td>\n",
       "      <td>38.0</td>\n",
       "      <td>1</td>\n",
       "      <td>0</td>\n",
       "      <td>PC 17599</td>\n",
       "      <td>71.2833</td>\n",
       "      <td>C85</td>\n",
       "      <td>C</td>\n",
       "    </tr>\n",
       "    <tr>\n",
       "      <th>2</th>\n",
       "      <td>3</td>\n",
       "      <td>1</td>\n",
       "      <td>3</td>\n",
       "      <td>Heikkinen, Miss. Laina</td>\n",
       "      <td>female</td>\n",
       "      <td>26.0</td>\n",
       "      <td>0</td>\n",
       "      <td>0</td>\n",
       "      <td>STON/O2. 3101282</td>\n",
       "      <td>7.9250</td>\n",
       "      <td>NaN</td>\n",
       "      <td>S</td>\n",
       "    </tr>\n",
       "    <tr>\n",
       "      <th>3</th>\n",
       "      <td>4</td>\n",
       "      <td>1</td>\n",
       "      <td>1</td>\n",
       "      <td>Futrelle, Mrs. Jacques Heath (Lily May Peel)</td>\n",
       "      <td>female</td>\n",
       "      <td>35.0</td>\n",
       "      <td>1</td>\n",
       "      <td>0</td>\n",
       "      <td>113803</td>\n",
       "      <td>53.1000</td>\n",
       "      <td>C123</td>\n",
       "      <td>S</td>\n",
       "    </tr>\n",
       "    <tr>\n",
       "      <th>4</th>\n",
       "      <td>5</td>\n",
       "      <td>0</td>\n",
       "      <td>3</td>\n",
       "      <td>Allen, Mr. William Henry</td>\n",
       "      <td>male</td>\n",
       "      <td>35.0</td>\n",
       "      <td>0</td>\n",
       "      <td>0</td>\n",
       "      <td>373450</td>\n",
       "      <td>8.0500</td>\n",
       "      <td>NaN</td>\n",
       "      <td>S</td>\n",
       "    </tr>\n",
       "  </tbody>\n",
       "</table>\n",
       "</div>"
      ],
      "text/plain": [
       "   PassengerId  Survived  Pclass  \\\n",
       "0            1         0       3   \n",
       "1            2         1       1   \n",
       "2            3         1       3   \n",
       "3            4         1       1   \n",
       "4            5         0       3   \n",
       "\n",
       "                                                Name     Sex   Age  SibSp  \\\n",
       "0                            Braund, Mr. Owen Harris    male  22.0      1   \n",
       "1  Cumings, Mrs. John Bradley (Florence Briggs Th...  female  38.0      1   \n",
       "2                             Heikkinen, Miss. Laina  female  26.0      0   \n",
       "3       Futrelle, Mrs. Jacques Heath (Lily May Peel)  female  35.0      1   \n",
       "4                           Allen, Mr. William Henry    male  35.0      0   \n",
       "\n",
       "   Parch            Ticket     Fare Cabin Embarked  \n",
       "0      0         A/5 21171   7.2500   NaN        S  \n",
       "1      0          PC 17599  71.2833   C85        C  \n",
       "2      0  STON/O2. 3101282   7.9250   NaN        S  \n",
       "3      0            113803  53.1000  C123        S  \n",
       "4      0            373450   8.0500   NaN        S  "
      ]
     },
     "execution_count": 409,
     "metadata": {},
     "output_type": "execute_result"
    }
   ],
   "source": [
    "df_train.head()"
   ]
  },
  {
   "cell_type": "code",
   "execution_count": 410,
   "metadata": {},
   "outputs": [
    {
     "data": {
      "text/html": [
       "<div>\n",
       "<style scoped>\n",
       "    .dataframe tbody tr th:only-of-type {\n",
       "        vertical-align: middle;\n",
       "    }\n",
       "\n",
       "    .dataframe tbody tr th {\n",
       "        vertical-align: top;\n",
       "    }\n",
       "\n",
       "    .dataframe thead th {\n",
       "        text-align: right;\n",
       "    }\n",
       "</style>\n",
       "<table border=\"1\" class=\"dataframe\">\n",
       "  <thead>\n",
       "    <tr style=\"text-align: right;\">\n",
       "      <th></th>\n",
       "      <th>PassengerId</th>\n",
       "      <th>Pclass</th>\n",
       "      <th>Name</th>\n",
       "      <th>Sex</th>\n",
       "      <th>Age</th>\n",
       "      <th>SibSp</th>\n",
       "      <th>Parch</th>\n",
       "      <th>Ticket</th>\n",
       "      <th>Fare</th>\n",
       "      <th>Cabin</th>\n",
       "      <th>Embarked</th>\n",
       "    </tr>\n",
       "  </thead>\n",
       "  <tbody>\n",
       "    <tr>\n",
       "      <th>0</th>\n",
       "      <td>892</td>\n",
       "      <td>3</td>\n",
       "      <td>Kelly, Mr. James</td>\n",
       "      <td>male</td>\n",
       "      <td>34.5</td>\n",
       "      <td>0</td>\n",
       "      <td>0</td>\n",
       "      <td>330911</td>\n",
       "      <td>7.8292</td>\n",
       "      <td>NaN</td>\n",
       "      <td>Q</td>\n",
       "    </tr>\n",
       "    <tr>\n",
       "      <th>1</th>\n",
       "      <td>893</td>\n",
       "      <td>3</td>\n",
       "      <td>Wilkes, Mrs. James (Ellen Needs)</td>\n",
       "      <td>female</td>\n",
       "      <td>47.0</td>\n",
       "      <td>1</td>\n",
       "      <td>0</td>\n",
       "      <td>363272</td>\n",
       "      <td>7.0000</td>\n",
       "      <td>NaN</td>\n",
       "      <td>S</td>\n",
       "    </tr>\n",
       "    <tr>\n",
       "      <th>2</th>\n",
       "      <td>894</td>\n",
       "      <td>2</td>\n",
       "      <td>Myles, Mr. Thomas Francis</td>\n",
       "      <td>male</td>\n",
       "      <td>62.0</td>\n",
       "      <td>0</td>\n",
       "      <td>0</td>\n",
       "      <td>240276</td>\n",
       "      <td>9.6875</td>\n",
       "      <td>NaN</td>\n",
       "      <td>Q</td>\n",
       "    </tr>\n",
       "    <tr>\n",
       "      <th>3</th>\n",
       "      <td>895</td>\n",
       "      <td>3</td>\n",
       "      <td>Wirz, Mr. Albert</td>\n",
       "      <td>male</td>\n",
       "      <td>27.0</td>\n",
       "      <td>0</td>\n",
       "      <td>0</td>\n",
       "      <td>315154</td>\n",
       "      <td>8.6625</td>\n",
       "      <td>NaN</td>\n",
       "      <td>S</td>\n",
       "    </tr>\n",
       "    <tr>\n",
       "      <th>4</th>\n",
       "      <td>896</td>\n",
       "      <td>3</td>\n",
       "      <td>Hirvonen, Mrs. Alexander (Helga E Lindqvist)</td>\n",
       "      <td>female</td>\n",
       "      <td>22.0</td>\n",
       "      <td>1</td>\n",
       "      <td>1</td>\n",
       "      <td>3101298</td>\n",
       "      <td>12.2875</td>\n",
       "      <td>NaN</td>\n",
       "      <td>S</td>\n",
       "    </tr>\n",
       "  </tbody>\n",
       "</table>\n",
       "</div>"
      ],
      "text/plain": [
       "   PassengerId  Pclass                                          Name     Sex  \\\n",
       "0          892       3                              Kelly, Mr. James    male   \n",
       "1          893       3              Wilkes, Mrs. James (Ellen Needs)  female   \n",
       "2          894       2                     Myles, Mr. Thomas Francis    male   \n",
       "3          895       3                              Wirz, Mr. Albert    male   \n",
       "4          896       3  Hirvonen, Mrs. Alexander (Helga E Lindqvist)  female   \n",
       "\n",
       "    Age  SibSp  Parch   Ticket     Fare Cabin Embarked  \n",
       "0  34.5      0      0   330911   7.8292   NaN        Q  \n",
       "1  47.0      1      0   363272   7.0000   NaN        S  \n",
       "2  62.0      0      0   240276   9.6875   NaN        Q  \n",
       "3  27.0      0      0   315154   8.6625   NaN        S  \n",
       "4  22.0      1      1  3101298  12.2875   NaN        S  "
      ]
     },
     "execution_count": 410,
     "metadata": {},
     "output_type": "execute_result"
    }
   ],
   "source": [
    "df_test.head()"
   ]
  },
  {
   "cell_type": "code",
   "execution_count": 411,
   "metadata": {},
   "outputs": [
    {
     "name": "stdout",
     "output_type": "stream",
     "text": [
      "<class 'pandas.core.frame.DataFrame'>\n",
      "RangeIndex: 891 entries, 0 to 890\n",
      "Data columns (total 12 columns):\n",
      " #   Column       Non-Null Count  Dtype  \n",
      "---  ------       --------------  -----  \n",
      " 0   PassengerId  891 non-null    int64  \n",
      " 1   Survived     891 non-null    int64  \n",
      " 2   Pclass       891 non-null    int64  \n",
      " 3   Name         891 non-null    object \n",
      " 4   Sex          891 non-null    object \n",
      " 5   Age          714 non-null    float64\n",
      " 6   SibSp        891 non-null    int64  \n",
      " 7   Parch        891 non-null    int64  \n",
      " 8   Ticket       891 non-null    object \n",
      " 9   Fare         891 non-null    float64\n",
      " 10  Cabin        204 non-null    object \n",
      " 11  Embarked     889 non-null    object \n",
      "dtypes: float64(2), int64(5), object(5)\n",
      "memory usage: 83.7+ KB\n"
     ]
    }
   ],
   "source": [
    "df_train.info()"
   ]
  },
  {
   "cell_type": "markdown",
   "metadata": {},
   "source": [
    "Check for missing values - We can see many of the cabin numbers are missing, some ages, and two embarked"
   ]
  },
  {
   "cell_type": "code",
   "execution_count": 412,
   "metadata": {},
   "outputs": [],
   "source": [
    "# df.rename(columns={'Embarked': 'Port'}, inplace=True)\n",
    "# print(df.isnull().sum()) "
   ]
  },
  {
   "cell_type": "code",
   "execution_count": 413,
   "metadata": {},
   "outputs": [
    {
     "data": {
      "image/png": "[encoded data removed]",
      "text/plain": [
       "<Figure size 432x288 with 1 Axes>"
      ]
     },
     "metadata": {
      "needs_background": "light"
     },
     "output_type": "display_data"
    }
   ],
   "source": [
    "sns.histplot(data=df_train, x='Age', hue='Survived', multiple='stack')\n",
    "# plt.hist(df['Age'], bins=10)\n",
    "plt.title('Age of Titanic Passengers')\n",
    "plt.xlabel('Age')\n",
    "plt.ylabel('Number of Passengers')\n",
    "plt.show()"
   ]
  },
  {
   "cell_type": "code",
   "execution_count": 414,
   "metadata": {},
   "outputs": [
    {
     "data": {
      "image/png": "[encoded data removed]",
      "text/plain": [
       "<Figure size 432x288 with 1 Axes>"
      ]
     },
     "metadata": {
      "needs_background": "light"
     },
     "output_type": "display_data"
    }
   ],
   "source": [
    "sns.histplot(data=df_train, x='Fare', hue='Survived', multiple='stack')\n",
    "plt.title('Fare Paid by Titanic Passengers')\n",
    "plt.xlabel('Fare Paid')\n",
    "plt.ylabel('Number of Passengers')\n",
    "plt.show()"
   ]
  },
  {
   "cell_type": "markdown",
   "metadata": {},
   "source": [
    "Data columns not used in model: \n",
    "- Cabin, because too many missing values \n",
    "- Name, not relevant \n",
    "- Ticket, not relevant\n",
    "- Embarked - when using ohe pd.get_dummies() to separate ports into binary columns their feature importances were small in a RandomForestClassifier so they did not help the model much so they were removed\n",
    "- Age, too many null values\n",
    "- SibSp and Parch - combined into new feature family_size"
   ]
  },
  {
   "cell_type": "code",
   "execution_count": 415,
   "metadata": {},
   "outputs": [
    {
     "name": "stdout",
     "output_type": "stream",
     "text": [
      "New Sex Column Example Data\n",
      "0    1\n",
      "1    0\n",
      "2    0\n",
      "3    0\n",
      "4    1\n",
      "Name: Sex, dtype: int64\n",
      "\n",
      "New Is Child Column Example Data\n",
      "0    0\n",
      "1    0\n",
      "2    0\n",
      "3    0\n",
      "4    0\n",
      "Name: is_child, dtype: int64\n",
      "\n",
      "New Family Size Column Example Data\n",
      "0    2\n",
      "1    2\n",
      "2    1\n",
      "3    2\n",
      "4    1\n",
      "Name: family_size, dtype: int64\n"
     ]
    }
   ],
   "source": [
    "df_train['Sex'] = df_train['Sex'].apply(lambda x: 1 if x == 'male' else 0)\n",
    "df_test['Sex'] = df_test['Sex'].apply(lambda x: 1 if x == 'male' else 0)\n",
    "print(\"New Sex Column Example Data\")\n",
    "print(df_train['Sex'].head())\n",
    "\n",
    "df_train['is_child'] = df_train.apply(lambda row: 1 if row['Age'] < 18 else 0, axis=1)\n",
    "df_test['is_child'] = df_test.apply(lambda row: 1 if row['Age'] < 18 else 0, axis=1)\n",
    "print(\"\\nNew Is Child Column Example Data\")\n",
    "print(df_train.is_child.head())\n",
    "\n",
    "df_train['family_size'] = df_train['SibSp'] + df_train['Parch'] + 1\n",
    "df_test['family_size'] = df_test['SibSp'] + df_test['Parch'] + 1\n",
    "print(\"\\nNew Family Size Column Example Data\")\n",
    "print(df_train.family_size.head())\n",
    "\n",
    "df_test.Fare.fillna(df_test.Fare.median(), inplace=True)\n",
    "df_train.Age.fillna(df_train.Age.median(), inplace=True)\n",
    "df_test.Age.fillna(df_train.Age.median(), inplace=True)\n",
    "\n",
    "\n",
    "# add title column (from name)"
   ]
  },
  {
   "cell_type": "code",
   "execution_count": 416,
   "metadata": {},
   "outputs": [],
   "source": [
    "# Code to get port columns from Embarked - ended up not using due to lack of relevance to classification\n",
    "\n",
    "# ohe_port = OneHotEncoder()\n",
    "# enc_port_df = pd.DataFrame(ohe_port.fit_transform(df[['Port']]).toarray())\n",
    "# enc_port_df.rename(columns={0: 'Port_C', 1: 'Port_Q', 2: 'Port_S'}, inplace=True)\n",
    "# df = df.join(enc_port_df)\n",
    "# df = df.join(pd.get_dummies(df['Port'], prefix='Port'))"
   ]
  },
  {
   "cell_type": "code",
   "execution_count": 417,
   "metadata": {},
   "outputs": [],
   "source": [
    "features = ['Pclass', 'Sex', 'family_size', 'is_child', 'Fare', 'Age']\n",
    "# ideally use age as a feature but the problem is the nas in it\n",
    "X_train = df_train[features]\n",
    "X_test = df_test[features]\n",
    "y = df_train['Survived']"
   ]
  },
  {
   "cell_type": "code",
   "execution_count": 418,
   "metadata": {},
   "outputs": [],
   "source": [
    "sc = StandardScaler()\n",
    "X_train = sc.fit_transform(X_train)\n",
    "X_test = sc.transform(X_test)"
   ]
  },
  {
   "cell_type": "code",
   "execution_count": 419,
   "metadata": {},
   "outputs": [
    {
     "name": "stdout",
     "output_type": "stream",
     "text": [
      "Accuracy: \n",
      "  0.978675645342312\n",
      "Cross Validation Accuracies:  \n",
      " [0.75977654 0.82022472 0.88202247 0.80898876 0.79775281]\n",
      "Mean CV Accuracy:  \n",
      " 0.8137530600715586\n"
     ]
    },
    {
     "data": {
      "text/plain": [
       "<sklearn.metrics._plot.confusion_matrix.ConfusionMatrixDisplay at 0x1daedc11f40>"
      ]
     },
     "execution_count": 419,
     "metadata": {},
     "output_type": "execute_result"
    },
    {
     "data": {
      "image/png": "[encoded data removed]",
      "text/plain": [
       "<Figure size 432x288 with 2 Axes>"
      ]
     },
     "metadata": {
      "needs_background": "light"
     },
     "output_type": "display_data"
    }
   ],
   "source": [
    "clf = RandomForestClassifier()\n",
    "clf.fit(X_train, y)\n",
    "skf = StratifiedKFold(n_splits=5, shuffle=True, random_state=13)\n",
    "cv = cross_val_score(clf, X_train, y, cv=skf)\n",
    "print(\"Accuracy: \\n \", accuracy_score(y, clf.predict(X_train)))\n",
    "print(\"Cross Validation Accuracies:  \\n\", cv)\n",
    "print(\"Mean CV Accuracy:  \\n\", np.mean(cv))\n",
    "plot_confusion_matrix(clf, X_train, y) \n",
    "\n"
   ]
  },
  {
   "cell_type": "code",
   "execution_count": 420,
   "metadata": {},
   "outputs": [],
   "source": [
    "models = [\n",
    "    LogisticRegression(max_iter=1000, random_state = 13),\n",
    "    KNeighborsClassifier(),\n",
    "    RandomForestClassifier(random_state = 13),\n",
    "    GradientBoostingClassifier(random_state = 13),\n",
    "    SVC(probability=True, max_iter = 1000, random_state = 13),\n",
    "    SGDClassifier(max_iter = 5000, random_state = 13)\n",
    "]\n",
    "# maybe add adaboost??\n",
    "\n",
    "model_grids = [\n",
    "    [{'C':[1e-3, 5e-3, 1e-2, 5e-2, 1e-1, 5e-1, 1, 5, 1e1, 5e1, 1e2, 5e2, 1e3]}],\n",
    "    [{'n_neighbors':[5,7,9,11, 13, 15, 17, 19], \n",
    "        'metric': ['euclidean', 'manhattan', 'minkowski']}],\n",
    "    [{'criterion':['gini','entropy'],\n",
    "        'n_estimators': [1000],\n",
    "        'max_depth' : [5], \n",
    "        'min_samples_split' : [1.0,2,5,10,15],\n",
    "        'min_samples_leaf': [1,2,5,10], \n",
    "        'max_features': ['log2', 'sqrt', None]}],\n",
    "    [{'learning_rate': [0.01, 0.05, 0.1, 0.2],\n",
    "        'n_estimators': [1000],\n",
    "        'max_depth' : [5, 8, 15, None], \n",
    "        'min_samples_split' : [1.0,2,5,10],\n",
    "        'min_samples_leaf': [1,2,5,10], \n",
    "        'max_features': ['log2', 'sqrt', 'auto', 'None']}],\n",
    "    [{'C':[1e-1, 1, 1e1],\n",
    "        'kernel': ['rbf', 'poly']}],  \n",
    "    [{\"loss\" : [\"hinge\", \"log\", \"squared_hinge\", \"modified_huber\"],\n",
    "        \"alpha\" : [0.01],\n",
    "        \"penalty\" : [\"l2\", \"l1\", \"none\"]}],         \n",
    "]"
   ]
  },
  {
   "cell_type": "code",
   "execution_count": 421,
   "metadata": {},
   "outputs": [
    {
     "name": "stdout",
     "output_type": "stream",
     "text": [
      "Fitting 5 folds for each of 13 candidates, totalling 65 fits\n",
      "LogisticRegression(max_iter=1000, random_state=13):\n",
      "Best F1 : 0.7961\n",
      "Best Parameters :  {'C': 0.05}\n",
      "\n",
      "----------------\n",
      "\n",
      "Fitting 5 folds for each of 24 candidates, totalling 120 fits\n",
      "KNeighborsClassifier():\n",
      "Best F1 : 0.8257\n",
      "Best Parameters :  {'n_neighbors': 7, 'metric': 'manhattan'}\n",
      "\n",
      "----------------\n",
      "\n",
      "Fitting 5 folds for each of 100 candidates, totalling 500 fits\n"
     ]
    },
    {
     "ename": "KeyboardInterrupt",
     "evalue": "",
     "output_type": "error",
     "traceback": [
      "\u001b[1;31m---------------------------------------------------------------------------\u001b[0m",
      "\u001b[1;31mKeyboardInterrupt\u001b[0m                         Traceback (most recent call last)",
      "\u001b[1;32mc:\\Users\\mikad\\Downloads\\titanic\\titanic.ipynb Cell 17'\u001b[0m in \u001b[0;36m<module>\u001b[1;34m\u001b[0m\n\u001b[0;32m      <a href='vscode-notebook-cell:/c%3A/Users/mikad/Downloads/titanic/titanic.ipynb#ch0000035?line=2'>3</a>\u001b[0m \u001b[39mfor\u001b[39;00m i,j \u001b[39min\u001b[39;00m \u001b[39mzip\u001b[39m(models, model_grids):\n\u001b[0;32m      <a href='vscode-notebook-cell:/c%3A/Users/mikad/Downloads/titanic/titanic.ipynb#ch0000035?line=3'>4</a>\u001b[0m     grid \u001b[39m=\u001b[39m RandomizedSearchCV(estimator\u001b[39m=\u001b[39mi, param_distributions\u001b[39m=\u001b[39mj, n_iter \u001b[39m=\u001b[39m \u001b[39m100\u001b[39m, scoring\u001b[39m=\u001b[39m\u001b[39m'\u001b[39m\u001b[39mf1_weighted\u001b[39m\u001b[39m'\u001b[39m, cv \u001b[39m=\u001b[39m skf, n_jobs\u001b[39m=\u001b[39m\u001b[39m-\u001b[39m\u001b[39m1\u001b[39m, verbose\u001b[39m=\u001b[39m\u001b[39m2\u001b[39m)\n\u001b[1;32m----> <a href='vscode-notebook-cell:/c%3A/Users/mikad/Downloads/titanic/titanic.ipynb#ch0000035?line=4'>5</a>\u001b[0m     grid\u001b[39m.\u001b[39;49mfit(X_train, y)\n\u001b[0;32m      <a href='vscode-notebook-cell:/c%3A/Users/mikad/Downloads/titanic/titanic.ipynb#ch0000035?line=5'>6</a>\u001b[0m     best_f1 \u001b[39m=\u001b[39m grid\u001b[39m.\u001b[39mbest_score_\n\u001b[0;32m      <a href='vscode-notebook-cell:/c%3A/Users/mikad/Downloads/titanic/titanic.ipynb#ch0000035?line=6'>7</a>\u001b[0m     best_param \u001b[39m=\u001b[39m grid\u001b[39m.\u001b[39mbest_params_\n",
      "File \u001b[1;32m~\\AppData\\Local\\Packages\\PythonSoftwareFoundation.Python.3.9_qbz5n2kfra8p0\\LocalCache\\local-packages\\Python39\\site-packages\\sklearn\\model_selection\\_search.py:891\u001b[0m, in \u001b[0;36mBaseSearchCV.fit\u001b[1;34m(self, X, y, groups, **fit_params)\u001b[0m\n\u001b[0;32m    885\u001b[0m     results \u001b[39m=\u001b[39m \u001b[39mself\u001b[39m\u001b[39m.\u001b[39m_format_results(\n\u001b[0;32m    886\u001b[0m         all_candidate_params, n_splits, all_out, all_more_results\n\u001b[0;32m    887\u001b[0m     )\n\u001b[0;32m    889\u001b[0m     \u001b[39mreturn\u001b[39;00m results\n\u001b[1;32m--> 891\u001b[0m \u001b[39mself\u001b[39;49m\u001b[39m.\u001b[39;49m_run_search(evaluate_candidates)\n\u001b[0;32m    893\u001b[0m \u001b[39m# multimetric is determined here because in the case of a callable\u001b[39;00m\n\u001b[0;32m    894\u001b[0m \u001b[39m# self.scoring the return type is only known after calling\u001b[39;00m\n\u001b[0;32m    895\u001b[0m first_test_score \u001b[39m=\u001b[39m all_out[\u001b[39m0\u001b[39m][\u001b[39m\"\u001b[39m\u001b[39mtest_scores\u001b[39m\u001b[39m\"\u001b[39m]\n",
      "File \u001b[1;32m~\\AppData\\Local\\Packages\\PythonSoftwareFoundation.Python.3.9_qbz5n2kfra8p0\\LocalCache\\local-packages\\Python39\\site-packages\\sklearn\\model_selection\\_search.py:1766\u001b[0m, in \u001b[0;36mRandomizedSearchCV._run_search\u001b[1;34m(self, evaluate_candidates)\u001b[0m\n\u001b[0;32m   1764\u001b[0m \u001b[39mdef\u001b[39;00m \u001b[39m_run_search\u001b[39m(\u001b[39mself\u001b[39m, evaluate_candidates):\n\u001b[0;32m   1765\u001b[0m     \u001b[39m\"\"\"Search n_iter candidates from param_distributions\"\"\"\u001b[39;00m\n\u001b[1;32m-> 1766\u001b[0m     evaluate_candidates(\n\u001b[0;32m   1767\u001b[0m         ParameterSampler(\n\u001b[0;32m   1768\u001b[0m             \u001b[39mself\u001b[39;49m\u001b[39m.\u001b[39;49mparam_distributions, \u001b[39mself\u001b[39;49m\u001b[39m.\u001b[39;49mn_iter, random_state\u001b[39m=\u001b[39;49m\u001b[39mself\u001b[39;49m\u001b[39m.\u001b[39;49mrandom_state\n\u001b[0;32m   1769\u001b[0m         )\n\u001b[0;32m   1770\u001b[0m     )\n",
      "File \u001b[1;32m~\\AppData\\Local\\Packages\\PythonSoftwareFoundation.Python.3.9_qbz5n2kfra8p0\\LocalCache\\local-packages\\Python39\\site-packages\\sklearn\\model_selection\\_search.py:838\u001b[0m, in \u001b[0;36mBaseSearchCV.fit.<locals>.evaluate_candidates\u001b[1;34m(candidate_params, cv, more_results)\u001b[0m\n\u001b[0;32m    830\u001b[0m \u001b[39mif\u001b[39;00m \u001b[39mself\u001b[39m\u001b[39m.\u001b[39mverbose \u001b[39m>\u001b[39m \u001b[39m0\u001b[39m:\n\u001b[0;32m    831\u001b[0m     \u001b[39mprint\u001b[39m(\n\u001b[0;32m    832\u001b[0m         \u001b[39m\"\u001b[39m\u001b[39mFitting \u001b[39m\u001b[39m{0}\u001b[39;00m\u001b[39m folds for each of \u001b[39m\u001b[39m{1}\u001b[39;00m\u001b[39m candidates,\u001b[39m\u001b[39m\"\u001b[39m\n\u001b[0;32m    833\u001b[0m         \u001b[39m\"\u001b[39m\u001b[39m totalling \u001b[39m\u001b[39m{2}\u001b[39;00m\u001b[39m fits\u001b[39m\u001b[39m\"\u001b[39m\u001b[39m.\u001b[39mformat(\n\u001b[0;32m    834\u001b[0m             n_splits, n_candidates, n_candidates \u001b[39m*\u001b[39m n_splits\n\u001b[0;32m    835\u001b[0m         )\n\u001b[0;32m    836\u001b[0m     )\n\u001b[1;32m--> 838\u001b[0m out \u001b[39m=\u001b[39m parallel(\n\u001b[0;32m    839\u001b[0m     delayed(_fit_and_score)(\n\u001b[0;32m    840\u001b[0m         clone(base_estimator),\n\u001b[0;32m    841\u001b[0m         X,\n\u001b[0;32m    842\u001b[0m         y,\n\u001b[0;32m    843\u001b[0m         train\u001b[39m=\u001b[39;49mtrain,\n\u001b[0;32m    844\u001b[0m         test\u001b[39m=\u001b[39;49mtest,\n\u001b[0;32m    845\u001b[0m         parameters\u001b[39m=\u001b[39;49mparameters,\n\u001b[0;32m    846\u001b[0m         split_progress\u001b[39m=\u001b[39;49m(split_idx, n_splits),\n\u001b[0;32m    847\u001b[0m         candidate_progress\u001b[39m=\u001b[39;49m(cand_idx, n_candidates),\n\u001b[0;32m    848\u001b[0m         \u001b[39m*\u001b[39;49m\u001b[39m*\u001b[39;49mfit_and_score_kwargs,\n\u001b[0;32m    849\u001b[0m     )\n\u001b[0;32m    850\u001b[0m     \u001b[39mfor\u001b[39;49;00m (cand_idx, parameters), (split_idx, (train, test)) \u001b[39min\u001b[39;49;00m product(\n\u001b[0;32m    851\u001b[0m         \u001b[39menumerate\u001b[39;49m(candidate_params), \u001b[39menumerate\u001b[39;49m(cv\u001b[39m.\u001b[39;49msplit(X, y, groups))\n\u001b[0;32m    852\u001b[0m     )\n\u001b[0;32m    853\u001b[0m )\n\u001b[0;32m    855\u001b[0m \u001b[39mif\u001b[39;00m \u001b[39mlen\u001b[39m(out) \u001b[39m<\u001b[39m \u001b[39m1\u001b[39m:\n\u001b[0;32m    856\u001b[0m     \u001b[39mraise\u001b[39;00m \u001b[39mValueError\u001b[39;00m(\n\u001b[0;32m    857\u001b[0m         \u001b[39m\"\u001b[39m\u001b[39mNo fits were performed. \u001b[39m\u001b[39m\"\u001b[39m\n\u001b[0;32m    858\u001b[0m         \u001b[39m\"\u001b[39m\u001b[39mWas the CV iterator empty? \u001b[39m\u001b[39m\"\u001b[39m\n\u001b[0;32m    859\u001b[0m         \u001b[39m\"\u001b[39m\u001b[39mWere there no candidates?\u001b[39m\u001b[39m\"\u001b[39m\n\u001b[0;32m    860\u001b[0m     )\n",
      "File \u001b[1;32m~\\AppData\\Local\\Packages\\PythonSoftwareFoundation.Python.3.9_qbz5n2kfra8p0\\LocalCache\\local-packages\\Python39\\site-packages\\joblib\\parallel.py:1056\u001b[0m, in \u001b[0;36mParallel.__call__\u001b[1;34m(self, iterable)\u001b[0m\n\u001b[0;32m   1053\u001b[0m     \u001b[39mself\u001b[39m\u001b[39m.\u001b[39m_iterating \u001b[39m=\u001b[39m \u001b[39mFalse\u001b[39;00m\n\u001b[0;32m   1055\u001b[0m \u001b[39mwith\u001b[39;00m \u001b[39mself\u001b[39m\u001b[39m.\u001b[39m_backend\u001b[39m.\u001b[39mretrieval_context():\n\u001b[1;32m-> 1056\u001b[0m     \u001b[39mself\u001b[39;49m\u001b[39m.\u001b[39;49mretrieve()\n\u001b[0;32m   1057\u001b[0m \u001b[39m# Make sure that we get a last message telling us we are done\u001b[39;00m\n\u001b[0;32m   1058\u001b[0m elapsed_time \u001b[39m=\u001b[39m time\u001b[39m.\u001b[39mtime() \u001b[39m-\u001b[39m \u001b[39mself\u001b[39m\u001b[39m.\u001b[39m_start_time\n",
      "File \u001b[1;32m~\\AppData\\Local\\Packages\\PythonSoftwareFoundation.Python.3.9_qbz5n2kfra8p0\\LocalCache\\local-packages\\Python39\\site-packages\\joblib\\parallel.py:935\u001b[0m, in \u001b[0;36mParallel.retrieve\u001b[1;34m(self)\u001b[0m\n\u001b[0;32m    933\u001b[0m \u001b[39mtry\u001b[39;00m:\n\u001b[0;32m    934\u001b[0m     \u001b[39mif\u001b[39;00m \u001b[39mgetattr\u001b[39m(\u001b[39mself\u001b[39m\u001b[39m.\u001b[39m_backend, \u001b[39m'\u001b[39m\u001b[39msupports_timeout\u001b[39m\u001b[39m'\u001b[39m, \u001b[39mFalse\u001b[39;00m):\n\u001b[1;32m--> 935\u001b[0m         \u001b[39mself\u001b[39m\u001b[39m.\u001b[39m_output\u001b[39m.\u001b[39mextend(job\u001b[39m.\u001b[39;49mget(timeout\u001b[39m=\u001b[39;49m\u001b[39mself\u001b[39;49m\u001b[39m.\u001b[39;49mtimeout))\n\u001b[0;32m    936\u001b[0m     \u001b[39melse\u001b[39;00m:\n\u001b[0;32m    937\u001b[0m         \u001b[39mself\u001b[39m\u001b[39m.\u001b[39m_output\u001b[39m.\u001b[39mextend(job\u001b[39m.\u001b[39mget())\n",
      "File \u001b[1;32m~\\AppData\\Local\\Packages\\PythonSoftwareFoundation.Python.3.9_qbz5n2kfra8p0\\LocalCache\\local-packages\\Python39\\site-packages\\joblib\\_parallel_backends.py:542\u001b[0m, in \u001b[0;36mLokyBackend.wrap_future_result\u001b[1;34m(future, timeout)\u001b[0m\n\u001b[0;32m    539\u001b[0m \u001b[39m\"\"\"Wrapper for Future.result to implement the same behaviour as\u001b[39;00m\n\u001b[0;32m    540\u001b[0m \u001b[39mAsyncResults.get from multiprocessing.\"\"\"\u001b[39;00m\n\u001b[0;32m    541\u001b[0m \u001b[39mtry\u001b[39;00m:\n\u001b[1;32m--> 542\u001b[0m     \u001b[39mreturn\u001b[39;00m future\u001b[39m.\u001b[39;49mresult(timeout\u001b[39m=\u001b[39;49mtimeout)\n\u001b[0;32m    543\u001b[0m \u001b[39mexcept\u001b[39;00m CfTimeoutError \u001b[39mas\u001b[39;00m e:\n\u001b[0;32m    544\u001b[0m     \u001b[39mraise\u001b[39;00m \u001b[39mTimeoutError\u001b[39;00m \u001b[39mfrom\u001b[39;00m \u001b[39me\u001b[39;00m\n",
      "File \u001b[1;32mC:\\Program Files\\WindowsApps\\PythonSoftwareFoundation.Python.3.9_3.9.3568.0_x64__qbz5n2kfra8p0\\lib\\concurrent\\futures\\_base.py:441\u001b[0m, in \u001b[0;36mFuture.result\u001b[1;34m(self, timeout)\u001b[0m\n\u001b[0;32m    438\u001b[0m \u001b[39melif\u001b[39;00m \u001b[39mself\u001b[39m\u001b[39m.\u001b[39m_state \u001b[39m==\u001b[39m FINISHED:\n\u001b[0;32m    439\u001b[0m     \u001b[39mreturn\u001b[39;00m \u001b[39mself\u001b[39m\u001b[39m.\u001b[39m__get_result()\n\u001b[1;32m--> 441\u001b[0m \u001b[39mself\u001b[39;49m\u001b[39m.\u001b[39;49m_condition\u001b[39m.\u001b[39;49mwait(timeout)\n\u001b[0;32m    443\u001b[0m \u001b[39mif\u001b[39;00m \u001b[39mself\u001b[39m\u001b[39m.\u001b[39m_state \u001b[39min\u001b[39;00m [CANCELLED, CANCELLED_AND_NOTIFIED]:\n\u001b[0;32m    444\u001b[0m     \u001b[39mraise\u001b[39;00m CancelledError()\n",
      "File \u001b[1;32mC:\\Program Files\\WindowsApps\\PythonSoftwareFoundation.Python.3.9_3.9.3568.0_x64__qbz5n2kfra8p0\\lib\\threading.py:312\u001b[0m, in \u001b[0;36mCondition.wait\u001b[1;34m(self, timeout)\u001b[0m\n\u001b[0;32m    310\u001b[0m \u001b[39mtry\u001b[39;00m:    \u001b[39m# restore state no matter what (e.g., KeyboardInterrupt)\u001b[39;00m\n\u001b[0;32m    311\u001b[0m     \u001b[39mif\u001b[39;00m timeout \u001b[39mis\u001b[39;00m \u001b[39mNone\u001b[39;00m:\n\u001b[1;32m--> 312\u001b[0m         waiter\u001b[39m.\u001b[39;49macquire()\n\u001b[0;32m    313\u001b[0m         gotit \u001b[39m=\u001b[39m \u001b[39mTrue\u001b[39;00m\n\u001b[0;32m    314\u001b[0m     \u001b[39melse\u001b[39;00m:\n",
      "\u001b[1;31mKeyboardInterrupt\u001b[0m: "
     ]
    }
   ],
   "source": [
    "# with warnings.catch_warnings():\n",
    "#     warnings.filterwarnings(\"ignore\")\n",
    "#     for i,j in zip(models, model_grids):\n",
    "#         grid = RandomizedSearchCV(estimator=i, param_distributions=j, n_iter = 100, scoring='f1_weighted', cv = skf, n_jobs=-1, verbose=2)\n",
    "#         grid.fit(X_train, y)\n",
    "#         best_f1 = grid.best_score_\n",
    "#         best_param = grid.best_params_\n",
    "#         print('{}:\\nBest F1 : {:.4f}'.format(str(i),best_f1))\n",
    "#         print('Best Parameters : ', best_param)\n",
    "#         print('\\n----------------\\n')\n"
   ]
  },
  {
   "cell_type": "markdown",
   "metadata": {},
   "source": [
    "LogisticRegression(max_iter=1000, random_state=13):\n",
    "\n",
    "Best F1 : 0.7973\n",
    "\n",
    "Best Parameters :  {'C': 0.05}\n",
    "\n",
    "----------------\n",
    "\n",
    "KNeighborsClassifier():\n",
    "\n",
    "Best F1 : 0.8207\n",
    "\n",
    "Best Parameters :  {'n_neighbors': 7, 'metric': 'euclidean'}\n",
    "\n",
    "----------------\n",
    "\n",
    "RandomForestClassifier(random_state=13):\n",
    "\n",
    "Best F1 : 0.8289\n",
    "\n",
    "Best Parameters :  {'n_estimators': 1000, 'min_samples_split': 2, 'min_samples_leaf': 2, 'max_features': None, 'max_depth': 5, 'criterion': 'gini'}\n",
    "\n",
    "----------------\n",
    "\n",
    "GradientBoostingClassifier(random_state=13):\n",
    "\n",
    "Best F1 : 0.8321\n",
    "\n",
    "Best Parameters :  {'n_estimators': 1000, 'min_samples_split': 5, 'min_samples_leaf': 2, 'max_features': 'auto', 'max_depth': 5, 'learning_rate': 0.01}\n",
    "\n",
    "----------------\n",
    "\n",
    "SVC(max_iter=1000, probability=True, random_state=13):\n",
    "\n",
    "Best F1 : 0.8198\n",
    "\n",
    "Best Parameters :  {'kernel': 'rbf', 'C': 1}\n",
    "\n",
    "----------------\n",
    "\n",
    "SGDClassifier(max_iter=5000, random_state=13):\n",
    "\n",
    "Best F1 : 0.7977\n",
    "\n",
    "Best Parameters :  {'penalty': 'l2', 'loss': 'log', 'alpha': 0.01}\n",
    "\n",
    "----------------"
   ]
  },
  {
   "cell_type": "code",
   "execution_count": 422,
   "metadata": {},
   "outputs": [],
   "source": [
    "models_tuned = [\n",
    "    LogisticRegression(max_iter=1000, C=0.05, random_state = 13),\n",
    "    KNeighborsClassifier(n_neighbors=7, metric='euclidean'),\n",
    "    RandomForestClassifier(random_state = 13, n_estimators = 1000, min_samples_split = 2, min_samples_leaf=2, max_features=None, max_depth=5, criterion='gini'),\n",
    "    GradientBoostingClassifier(random_state = 13, n_estimators = 1000, min_samples_split = 5, min_samples_leaf = 2, max_features = 'auto', max_depth = 5, learning_rate = 0.01),\n",
    "    SVC(probability=True, max_iter = 1000, random_state = 13, kernel = 'rbf', C = 1),\n",
    "    SGDClassifier(max_iter = 5000, random_state = 13, penalty = 'l2', loss = 'log', alpha = 0.01)\n",
    "]"
   ]
  },
  {
   "cell_type": "code",
   "execution_count": 423,
   "metadata": {},
   "outputs": [
    {
     "name": "stdout",
     "output_type": "stream",
     "text": [
      "LogisticRegression(C=0.05, max_iter=1000, random_state=13) :\n",
      "Accuracy Score: 0.8036\n",
      "K-Fold Validation Mean Accuracy: 80.0257 %\n",
      "Classification report: \n",
      "              precision    recall  f1-score   support\n",
      "\n",
      "           0       0.81      0.89      0.85       549\n",
      "           1       0.78      0.67      0.72       342\n",
      "\n",
      "    accuracy                           0.80       891\n",
      "   macro avg       0.80      0.78      0.79       891\n",
      "weighted avg       0.80      0.80      0.80       891\n",
      "\n",
      "-----------------------------------\n",
      "\n",
      "KNeighborsClassifier(metric='euclidean', n_neighbors=7) :\n",
      "Accuracy Score: 0.8575\n",
      "K-Fold Validation Mean Accuracy: 81.9333 %\n",
      "Classification report: \n",
      "              precision    recall  f1-score   support\n",
      "\n",
      "           0       0.86      0.91      0.89       549\n",
      "           1       0.85      0.77      0.80       342\n",
      "\n",
      "    accuracy                           0.86       891\n",
      "   macro avg       0.86      0.84      0.85       891\n",
      "weighted avg       0.86      0.86      0.86       891\n",
      "\n",
      "-----------------------------------\n",
      "\n",
      "RandomForestClassifier(max_depth=5, max_features=None, min_samples_leaf=2,\n",
      "                       n_estimators=1000, random_state=13) :\n",
      "Accuracy Score: 0.8597\n",
      "K-Fold Validation Mean Accuracy: 82.4933 %\n",
      "Classification report: \n",
      "              precision    recall  f1-score   support\n",
      "\n",
      "           0       0.85      0.94      0.89       549\n",
      "           1       0.89      0.73      0.80       342\n",
      "\n",
      "    accuracy                           0.86       891\n",
      "   macro avg       0.87      0.83      0.85       891\n",
      "weighted avg       0.86      0.86      0.86       891\n",
      "\n",
      "-----------------------------------\n",
      "\n",
      "GradientBoostingClassifier(learning_rate=0.01, max_depth=5, max_features='auto',\n",
      "                           min_samples_leaf=2, min_samples_split=5,\n",
      "                           n_estimators=1000, random_state=13) :\n",
      "Accuracy Score: 0.9416\n",
      "K-Fold Validation Mean Accuracy: 82.9433 %\n",
      "Classification report: \n",
      "              precision    recall  f1-score   support\n",
      "\n",
      "           0       0.93      0.98      0.95       549\n",
      "           1       0.96      0.89      0.92       342\n",
      "\n",
      "    accuracy                           0.94       891\n",
      "   macro avg       0.95      0.93      0.94       891\n",
      "weighted avg       0.94      0.94      0.94       891\n",
      "\n",
      "-----------------------------------\n",
      "\n",
      "SVC(C=1, max_iter=1000, probability=True, random_state=13) :\n",
      "Accuracy Score: 0.8328\n",
      "K-Fold Validation Mean Accuracy: 83.0544 %\n",
      "Classification report: \n",
      "              precision    recall  f1-score   support\n",
      "\n",
      "           0       0.84      0.90      0.87       549\n",
      "           1       0.82      0.73      0.77       342\n",
      "\n",
      "    accuracy                           0.83       891\n",
      "   macro avg       0.83      0.81      0.82       891\n",
      "weighted avg       0.83      0.83      0.83       891\n",
      "\n",
      "-----------------------------------\n",
      "\n",
      "SGDClassifier(alpha=0.01, loss='log', max_iter=5000, random_state=13) :\n",
      "Accuracy Score: 0.8013\n",
      "K-Fold Validation Mean Accuracy: 79.9134 %\n",
      "Classification report: \n",
      "              precision    recall  f1-score   support\n",
      "\n",
      "           0       0.81      0.88      0.84       549\n",
      "           1       0.78      0.68      0.72       342\n",
      "\n",
      "    accuracy                           0.80       891\n",
      "   macro avg       0.80      0.78      0.78       891\n",
      "weighted avg       0.80      0.80      0.80       891\n",
      "\n",
      "-----------------------------------\n",
      "\n"
     ]
    }
   ],
   "source": [
    "tuned_model_stats = []\n",
    "\n",
    "for i in range(len(models_tuned)):\n",
    "    model_stats = []\n",
    "    model = models_tuned[i]\n",
    "    model.fit(X_train, y)\n",
    "    y_pred = model.predict(X_train)\n",
    "    y_test = np.array(y)\n",
    "\n",
    "    accuracies = cross_val_score(estimator = model, X = X_train, y = y, cv = skf)\n",
    "    test_acc = accuracy_score(y_test, y_pred)\n",
    "    cr = classification_report(y_test, y_pred)\n",
    "    precision = precision_score(y_test, y_pred, average= 'weighted')\n",
    "    recall = recall_score(y_test, y_pred, average= 'weighted')\n",
    "    f1 = f1_score(y_test, y_pred, average= 'weighted')\n",
    "   \n",
    "    print(str(model), ':')\n",
    "    \n",
    "    print('Accuracy Score: {:.4f}'.format(test_acc))\n",
    "    print(\"K-Fold Validation Mean Accuracy: {:.4f} %\".format(accuracies.mean()*100))\n",
    "    print(\"Classification report: \")\n",
    "    print(cr)\n",
    "    \n",
    "    print('-----------------------------------\\n')\n",
    "    model_stats.append(str(model)[:str(model).find('(')])\n",
    "    model_stats.append(accuracies.mean())\n",
    "    model_stats.append(test_acc)\n",
    "    model_stats.append(precision)\n",
    "    model_stats.append(recall)\n",
    "    model_stats.append(f1)\n",
    "    tuned_model_stats.append(model_stats)"
   ]
  },
  {
   "cell_type": "code",
   "execution_count": 424,
   "metadata": {},
   "outputs": [
    {
     "data": {
      "text/html": [
       "<div>\n",
       "<style scoped>\n",
       "    .dataframe tbody tr th:only-of-type {\n",
       "        vertical-align: middle;\n",
       "    }\n",
       "\n",
       "    .dataframe tbody tr th {\n",
       "        vertical-align: top;\n",
       "    }\n",
       "\n",
       "    .dataframe thead th {\n",
       "        text-align: right;\n",
       "    }\n",
       "</style>\n",
       "<table border=\"1\" class=\"dataframe\">\n",
       "  <thead>\n",
       "    <tr style=\"text-align: right;\">\n",
       "      <th></th>\n",
       "      <th>Model</th>\n",
       "      <th>Cross-val Acc</th>\n",
       "      <th>Test Accuracy</th>\n",
       "      <th>Precision</th>\n",
       "      <th>Recall</th>\n",
       "      <th>F1</th>\n",
       "    </tr>\n",
       "  </thead>\n",
       "  <tbody>\n",
       "    <tr>\n",
       "      <th>3</th>\n",
       "      <td>GradientBoostingClassifier</td>\n",
       "      <td>0.829433</td>\n",
       "      <td>0.941639</td>\n",
       "      <td>0.942417</td>\n",
       "      <td>0.941639</td>\n",
       "      <td>0.941161</td>\n",
       "    </tr>\n",
       "    <tr>\n",
       "      <th>2</th>\n",
       "      <td>RandomForestClassifier</td>\n",
       "      <td>0.824933</td>\n",
       "      <td>0.859708</td>\n",
       "      <td>0.862712</td>\n",
       "      <td>0.859708</td>\n",
       "      <td>0.856398</td>\n",
       "    </tr>\n",
       "    <tr>\n",
       "      <th>1</th>\n",
       "      <td>KNeighborsClassifier</td>\n",
       "      <td>0.819333</td>\n",
       "      <td>0.857464</td>\n",
       "      <td>0.856921</td>\n",
       "      <td>0.857464</td>\n",
       "      <td>0.855930</td>\n",
       "    </tr>\n",
       "    <tr>\n",
       "      <th>4</th>\n",
       "      <td>SVC</td>\n",
       "      <td>0.830544</td>\n",
       "      <td>0.832772</td>\n",
       "      <td>0.831824</td>\n",
       "      <td>0.832772</td>\n",
       "      <td>0.830584</td>\n",
       "    </tr>\n",
       "    <tr>\n",
       "      <th>0</th>\n",
       "      <td>LogisticRegression</td>\n",
       "      <td>0.800257</td>\n",
       "      <td>0.803591</td>\n",
       "      <td>0.802067</td>\n",
       "      <td>0.803591</td>\n",
       "      <td>0.800209</td>\n",
       "    </tr>\n",
       "    <tr>\n",
       "      <th>5</th>\n",
       "      <td>SGDClassifier</td>\n",
       "      <td>0.799134</td>\n",
       "      <td>0.801347</td>\n",
       "      <td>0.799500</td>\n",
       "      <td>0.801347</td>\n",
       "      <td>0.798427</td>\n",
       "    </tr>\n",
       "  </tbody>\n",
       "</table>\n",
       "</div>"
      ],
      "text/plain": [
       "                        Model  Cross-val Acc  Test Accuracy  Precision  \\\n",
       "3  GradientBoostingClassifier       0.829433       0.941639   0.942417   \n",
       "2      RandomForestClassifier       0.824933       0.859708   0.862712   \n",
       "1        KNeighborsClassifier       0.819333       0.857464   0.856921   \n",
       "4                         SVC       0.830544       0.832772   0.831824   \n",
       "0          LogisticRegression       0.800257       0.803591   0.802067   \n",
       "5               SGDClassifier       0.799134       0.801347   0.799500   \n",
       "\n",
       "     Recall        F1  \n",
       "3  0.941639  0.941161  \n",
       "2  0.859708  0.856398  \n",
       "1  0.857464  0.855930  \n",
       "4  0.832772  0.830584  \n",
       "0  0.803591  0.800209  \n",
       "5  0.801347  0.798427  "
      ]
     },
     "execution_count": 424,
     "metadata": {},
     "output_type": "execute_result"
    }
   ],
   "source": [
    "df_tuned = pd.DataFrame(tuned_model_stats, columns= ['Model','Cross-val Acc','Test Accuracy','Precision','Recall', 'F1'])\n",
    "df_tuned.sort_values(by = ['F1'], inplace = True, ascending = False)\n",
    "df_tuned"
   ]
  },
  {
   "cell_type": "code",
   "execution_count": 431,
   "metadata": {},
   "outputs": [],
   "source": [
    "indiv_clfs = {\n",
    "    # ('log reg', Pipeline([('classifier', LogisticRegression(max_iter=1000, C=0.05, random_state = 13))])),\n",
    "    ('knn', Pipeline([('classifier', KNeighborsClassifier(n_neighbors=7, metric='euclidean'))])),\n",
    "    ('random forest', Pipeline([('classifier', RandomForestClassifier(random_state = 13, n_estimators = 1000, min_samples_split = 8, min_samples_leaf = 2, max_features = None, max_depth = 5, criterion = 'gini'))])),\n",
    "    ('gradient boosting', Pipeline([('classifier', GradientBoostingClassifier(random_state = 13, n_estimators = 1000, min_samples_split = 5, min_samples_leaf = 2, max_features = 'auto', max_depth = 5, learning_rate = 0.01))])),\n",
    "    ('svc', Pipeline([('classifier', SVC(probability=True, max_iter = 1000, random_state = 13, kernel = 'rbf', C = 1))]))\n",
    "    # ('sgd', Pipeline([('classifier', SGDClassifier(max_iter = 5000, random_state = 13, penalty = 'l2', loss = 'log', alpha = 0.01))]))\n",
    "}\n",
    "final_est = LogisticRegression(max_iter=1000)\n",
    "#todo: tune final est"
   ]
  },
  {
   "cell_type": "code",
   "execution_count": 432,
   "metadata": {},
   "outputs": [
    {
     "name": "stdout",
     "output_type": "stream",
     "text": [
      "Stacking: 0.8933782267115601\n"
     ]
    }
   ],
   "source": [
    "clf = StackingClassifier(estimators=indiv_clfs, final_estimator=final_est)\n",
    "clf.fit(X_train, y)\n",
    "print(\"Stacking:\", clf.score(X_train, y))"
   ]
  },
  {
   "cell_type": "code",
   "execution_count": null,
   "metadata": {},
   "outputs": [
    {
     "name": "stdout",
     "output_type": "stream",
     "text": [
      "Gradient Boosting 0.9102132435465768\n"
     ]
    }
   ],
   "source": [
    "# clf = GradientBoostingClassifier(random_state = 13, n_estimators = 1000, min_samples_split = 5, min_samples_leaf = 2, max_features = 'auto', max_depth = 5, learning_rate = 0.01)\n",
    "# clf.fit(X_train, y)\n",
    "# print(\"Gradient Boosting\", clf.score(X_train, y))"
   ]
  },
  {
   "cell_type": "code",
   "execution_count": 429,
   "metadata": {},
   "outputs": [],
   "source": [
    "predictions = clf.predict(X_test)\n",
    "output = pd.DataFrame({'PassengerId': df_test.PassengerId, 'Survived': predictions})\n",
    "output.to_csv('ensemble_submission.csv', index=False)"
   ]
  }
 ],
 "metadata": {
  "kernelspec": {
   "display_name": "Python 3.9.13 64-bit (windows store)",
   "language": "python",
   "name": "python3"
  },
  "language_info": {
   "codemirror_mode": {
    "name": "ipython",
    "version": 3
   },
   "file_extension": ".py",
   "mimetype": "text/x-python",
   "name": "python",
   "nbconvert_exporter": "python",
   "pygments_lexer": "ipython3",
   "version": "3.9.13"
  },
  "orig_nbformat": 4,
  "vscode": {
   "interpreter": {
    "hash": "577cd82dce11bb3dc408dc87b140042ea24ff4301c4cdd330bbe9a55103eb11a"
   }
  }
 },
 "nbformat": 4,
 "nbformat_minor": 2
}
